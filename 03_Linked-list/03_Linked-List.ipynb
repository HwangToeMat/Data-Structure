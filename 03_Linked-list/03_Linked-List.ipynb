{
 "cells": [
  {
   "cell_type": "markdown",
   "metadata": {},
   "source": [
    "# [자료구조] 03. 연결 리스트 (Linked List) - python"
   ]
  },
  {
   "cell_type": "markdown",
   "metadata": {},
   "source": [
    "## 1. 정의"
   ]
  },
  {
   "cell_type": "markdown",
   "metadata": {},
   "source": [
    "연결 리스트는 각각 존재하는 데이터(Node)에 다른 데이터(Node)를 화살표를 연결(pointer)하여 관리하는 구조이다.<br>\n",
    "* 노드(Node): 데이터 저장 단위 (데이터값, 포인터) 로 구성<br>\n",
    "* 포인터(pointer): 각 노드 안에서, 다음이나 이전의 노드와의 연결 정보를 가지고 있는 공간"
   ]
  },
  {
   "cell_type": "markdown",
   "metadata": {},
   "source": [
    "## 2. 특징"
   ]
  },
  {
   "cell_type": "markdown",
   "metadata": {},
   "source": [
    "**장점**<br>\n",
    "* 미리 데이터 공간을 할당하지 않아도 됨.<br>\n",
    "\n",
    "**단점**<br>\n",
    "* 데이터 저장 공간 외에도 연결을 위한 주소값 저장 공간이 추가적으로 필요함<br>\n",
    "* 연결 정보를 찾는 시간이 추가적으로 필요하기때문에 접근 속도가 느림<br>\n",
    "* 중간 데이터 추가 혹은 삭제시, 앞뒤 데이터의 연결을 재구성해야 함."
   ]
  },
  {
   "cell_type": "markdown",
   "metadata": {},
   "source": [
    "## 3. 종류"
   ]
  },
  {
   "cell_type": "markdown",
   "metadata": {},
   "source": [
    "1.연결 리스트(Linked List)<br>\n",
    "* 데이터(Node)에 다른 데이터(Node)를 화살표를 연결(pointer)하여 관리하는 구조를 가진 일반적인 형태<br>\n",
    "\n",
    "2.이중 연결 리스트(Doubly Linked List)<br>\n",
    "* 양방향으로 연결되어 있어 노드 탐색이 양쪽으로 모두 가능함<br>\n",
    "\n",
    "3.원형 연결 리스트(Circular Linked List)<br>\n",
    "* 일반적인 연결 리스트의 첫번째 노드와 마지막 노드를 연결시켜 원형으로 만든 구조<br>\n",
    "\n",
    "4.이중 원형 연결 리스트(Doubly Circular Linked List)<br>\n",
    "* 이중 연결 리스트의 첫번째 노드와 마지막 노드를 연결시켜 원형으로 만든 구조"
   ]
  },
  {
   "cell_type": "markdown",
   "metadata": {},
   "source": [
    "## 4. 코드 구현"
   ]
  },
  {
   "cell_type": "markdown",
   "metadata": {},
   "source": [
    "* 연결 리스트(Linked List)\n",
    "\n",
    "<img src=\"https://www.fun-coding.org/00_Images/linkedlistadd.png\" />"
   ]
  },
  {
   "cell_type": "code",
   "execution_count": 131,
   "metadata": {},
   "outputs": [],
   "source": [
    "class Node:\n",
    "    def __init__(self, data, post=None):\n",
    "        self.post = post # 다음 node의 주소값\n",
    "        self.data = data # node의 data\n",
    "        \n",
    "class Linked_list:\n",
    "    def __init__(self, data):\n",
    "        self.head = Node(data)\n",
    "        \n",
    "    def add(self, data):\n",
    "        node = self.head\n",
    "        while node.post:\n",
    "            node = node.post\n",
    "        node.post = Node(data)\n",
    "    \n",
    "    def pop(self):\n",
    "        node = self.head\n",
    "        while node.post.post:\n",
    "            node = node.post\n",
    "        node.post = None\n",
    "    \n",
    "    def desc(self):\n",
    "        node = self.head\n",
    "        while node:\n",
    "            print(node.data)\n",
    "            node = node.post\n",
    "            \n",
    "    # 앞에서부터 검색하기\n",
    "    def search(self, data):\n",
    "        node = self.head\n",
    "        while node.data != data:\n",
    "            if node.post == None:           \n",
    "                return print('찾는 값이 없습니다.')\n",
    "            node = node.post\n",
    "        print(node.data, '을 찾았습니다.')"
   ]
  },
  {
   "cell_type": "markdown",
   "metadata": {},
   "source": [
    "* test"
   ]
  },
  {
   "cell_type": "code",
   "execution_count": 132,
   "metadata": {},
   "outputs": [
    {
     "name": "stdout",
     "output_type": "stream",
     "text": [
      "data1\n"
     ]
    }
   ],
   "source": [
    "htm = Linked_list('data1')\n",
    "htm.desc()"
   ]
  },
  {
   "cell_type": "code",
   "execution_count": 133,
   "metadata": {},
   "outputs": [
    {
     "name": "stdout",
     "output_type": "stream",
     "text": [
      "data1\n",
      "data2\n",
      "data3\n",
      "data4\n",
      "data5\n"
     ]
    }
   ],
   "source": [
    "htm.add('data2')\n",
    "htm.add('data3')\n",
    "htm.add('data4')\n",
    "htm.add('data5')\n",
    "htm.desc()"
   ]
  },
  {
   "cell_type": "code",
   "execution_count": 134,
   "metadata": {},
   "outputs": [
    {
     "name": "stdout",
     "output_type": "stream",
     "text": [
      "data1\n",
      "data2\n",
      "data3\n",
      "data4\n"
     ]
    }
   ],
   "source": [
    "htm.pop()\n",
    "htm.desc()"
   ]
  },
  {
   "cell_type": "code",
   "execution_count": 135,
   "metadata": {},
   "outputs": [
    {
     "name": "stdout",
     "output_type": "stream",
     "text": [
      "data1 을 찾았습니다.\n",
      "찾는 값이 없습니다.\n"
     ]
    }
   ],
   "source": [
    "htm.search('data1')\n",
    "htm.search('data15')"
   ]
  },
  {
   "cell_type": "markdown",
   "metadata": {},
   "source": [
    "* 이중 연결 리스트(Doubly Linked List)\n",
    "\n",
    "<img src=\"https://www.fun-coding.org/00_Images/doublelinkedlist.png\" />"
   ]
  },
  {
   "cell_type": "code",
   "execution_count": 121,
   "metadata": {},
   "outputs": [],
   "source": [
    "class Node:\n",
    "    def __init__(self, data, prev=None, post=None):\n",
    "        self.prev = prev\n",
    "        self.data = data\n",
    "        self.post = post\n",
    "\n",
    "class DLinked_list:\n",
    "    def __init__(self, data):\n",
    "        self.head = Node(data)\n",
    "        self.tail = self.head\n",
    "\n",
    "    def add(self, data):\n",
    "        node = self.tail\n",
    "        node.post = Node(data, node, None)\n",
    "        self.tail = node.post\n",
    "\n",
    "    def pop(self):\n",
    "        node = self.tail\n",
    "        node = node.prev\n",
    "        node.post = None\n",
    "        self.tail = node\n",
    "\n",
    "    def desc(self):\n",
    "        node = self.head\n",
    "        while node:\n",
    "            print (node.data)\n",
    "            node = node.post\n",
    "            \n",
    "    # 앞에서부터 검색하기\n",
    "    def search(self, data):\n",
    "        node = self.head\n",
    "        while node.data != data:\n",
    "            if node.post == None:           \n",
    "                return print('찾는 값이 없습니다.')\n",
    "            node = node.post\n",
    "        print(node.data, '을 찾았습니다.')\n",
    "        \n",
    "    # 뒤에서부터 검색하기\n",
    "    def search_tail(self, data):\n",
    "        node = self.tail\n",
    "        while node.data != data:\n",
    "            if node.prev == None:\n",
    "                return print('찾는 값이 없습니다.')\n",
    "            node = node.prev\n",
    "        print(node.data, '을 찾았습니다.')"
   ]
  },
  {
   "cell_type": "code",
   "execution_count": 122,
   "metadata": {},
   "outputs": [
    {
     "name": "stdout",
     "output_type": "stream",
     "text": [
      "data1\n"
     ]
    }
   ],
   "source": [
    "htm1 = DLinked_list('data1')\n",
    "htm1.desc()"
   ]
  },
  {
   "cell_type": "code",
   "execution_count": 123,
   "metadata": {},
   "outputs": [
    {
     "name": "stdout",
     "output_type": "stream",
     "text": [
      "data1\n",
      "data2\n",
      "data3\n",
      "data4\n",
      "data5\n"
     ]
    }
   ],
   "source": [
    "htm1.add('data2')\n",
    "htm1.add('data3')\n",
    "htm1.add('data4')\n",
    "htm1.add('data5')\n",
    "htm1.desc()"
   ]
  },
  {
   "cell_type": "code",
   "execution_count": 124,
   "metadata": {},
   "outputs": [
    {
     "name": "stdout",
     "output_type": "stream",
     "text": [
      "data1\n",
      "data2\n",
      "data3\n",
      "data4\n"
     ]
    }
   ],
   "source": [
    "htm1.pop()\n",
    "htm1.desc()"
   ]
  },
  {
   "cell_type": "code",
   "execution_count": 137,
   "metadata": {},
   "outputs": [
    {
     "name": "stdout",
     "output_type": "stream",
     "text": [
      "data1 을 찾았습니다.\n",
      "찾는 값이 없습니다.\n"
     ]
    }
   ],
   "source": [
    "htm1.search_tail('data1')\n",
    "htm1.search_tail('data15')"
   ]
  }
 ],
 "metadata": {
  "kernelspec": {
   "display_name": "Python 3",
   "language": "python",
   "name": "python3"
  },
  "language_info": {
   "codemirror_mode": {
    "name": "ipython",
    "version": 3
   },
   "file_extension": ".py",
   "mimetype": "text/x-python",
   "name": "python",
   "nbconvert_exporter": "python",
   "pygments_lexer": "ipython3",
   "version": "3.7.3"
  }
 },
 "nbformat": 4,
 "nbformat_minor": 2
}
