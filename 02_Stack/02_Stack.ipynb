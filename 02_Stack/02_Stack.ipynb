{
 "cells": [
  {
   "cell_type": "markdown",
   "metadata": {},
   "source": [
    "# [자료구조] 02. 스택 (Stack) - python"
   ]
  },
  {
   "cell_type": "markdown",
   "metadata": {},
   "source": [
    "## 1. 정의"
   ]
  },
  {
   "cell_type": "markdown",
   "metadata": {},
   "source": [
    "가장 나중에 쌓은 데이터를 가장 먼저 꺼낼 수 있는 구조를 가지고 있다.<br>\n",
    "즉 **LIFO(Last in First out), FILO(First in Last out)**구조를 가지고있다.<br>\n",
    "* push : 데이터를 스택에 넣는다.<br>\n",
    "* pop : 데이터를 스택에서 꺼낸다."
   ]
  },
  {
   "cell_type": "markdown",
   "metadata": {},
   "source": [
    "## 2. 특징"
   ]
  },
  {
   "cell_type": "markdown",
   "metadata": {},
   "source": [
    "* 컴퓨터 내부의 프로세스 구조의 함수 동작 방식에 쓰임.<br>\n",
    "* 데이터를 제한적으로 접근할 수 있는 구조이다.(한쪽 끝에서만 자료를 넣거나 뺄 수 있다.)\n",
    "* 단순하고 빠른 성능을 위해 사용됨."
   ]
  },
  {
   "cell_type": "markdown",
   "metadata": {},
   "source": [
    "**장점**\n",
    "  - 구조가 단순해서, 구현이 쉽다.\n",
    "  - 데이터 저장/읽기 속도가 빠르다.<br>\n",
    "  \n",
    "**단점** \n",
    "  - 데이터 최대 갯수를 미리 정해야 한다.\n",
    "  - 저장 공간의 낭비가 발생할 수 있다."
   ]
  },
  {
   "cell_type": "markdown",
   "metadata": {},
   "source": [
    "## 3. 코드 구현"
   ]
  },
  {
   "cell_type": "markdown",
   "metadata": {},
   "source": [
    "### list 사용하여 구현하기"
   ]
  },
  {
   "cell_type": "markdown",
   "metadata": {},
   "source": [
    "* stack_htm class 구현"
   ]
  },
  {
   "cell_type": "code",
   "execution_count": 2,
   "metadata": {},
   "outputs": [],
   "source": [
    "class stack_htm:\n",
    "    def __init__(self):\n",
    "        self.stack = list()\n",
    "    \n",
    "    def push(self, data):\n",
    "        self.stack.append(data)\n",
    "        return self.stack\n",
    "    \n",
    "    def pop(self):\n",
    "        try:\n",
    "            temp = self.stack[-1]\n",
    "            del self.stack[-1]\n",
    "            return temp\n",
    "        except:\n",
    "            return self.stack\n",
    "    \n",
    "    def ssize(self):\n",
    "        return len(self.stack)"
   ]
  },
  {
   "cell_type": "markdown",
   "metadata": {},
   "source": [
    "* test"
   ]
  },
  {
   "cell_type": "code",
   "execution_count": 3,
   "metadata": {},
   "outputs": [
    {
     "data": {
      "text/plain": [
       "[1, 2, 3, 4, 5]"
      ]
     },
     "execution_count": 3,
     "metadata": {},
     "output_type": "execute_result"
    }
   ],
   "source": [
    "HTM = stack_htm()\n",
    "# push\n",
    "HTM.push(1)\n",
    "HTM.push(2)\n",
    "HTM.push(3)\n",
    "HTM.push(4)\n",
    "HTM.push(5)"
   ]
  },
  {
   "cell_type": "code",
   "execution_count": 4,
   "metadata": {},
   "outputs": [
    {
     "name": "stdout",
     "output_type": "stream",
     "text": [
      "==>> ssize :  5\n",
      "==>> pop :  5\n",
      "==>> ssize :  4\n",
      "==>> pop :  4\n",
      "==>> ssize :  3\n",
      "==>> pop :  3\n",
      "==>> ssize :  2\n",
      "==>> pop :  2\n",
      "==>> ssize :  1\n",
      "==>> pop :  1\n",
      "==>> ssize :  0\n"
     ]
    }
   ],
   "source": [
    "# ssize\n",
    "print('==>> ssize : ',HTM.ssize())\n",
    "# pop\n",
    "for _ in range(HTM.ssize()):\n",
    "    print('==>> pop : ',HTM.pop())\n",
    "    print('==>> ssize : ',HTM.ssize())"
   ]
  }
 ],
 "metadata": {
  "kernelspec": {
   "display_name": "Python 3",
   "language": "python",
   "name": "python3"
  },
  "language_info": {
   "codemirror_mode": {
    "name": "ipython",
    "version": 3
   },
   "file_extension": ".py",
   "mimetype": "text/x-python",
   "name": "python",
   "nbconvert_exporter": "python",
   "pygments_lexer": "ipython3",
   "version": "3.7.3"
  }
 },
 "nbformat": 4,
 "nbformat_minor": 2
}
