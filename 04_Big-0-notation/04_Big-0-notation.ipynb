{
 "cells": [
  {
   "cell_type": "markdown",
   "metadata": {},
   "source": [
    "# [자료구조] 04. Big O 표기법 (Big 0 notation) - python"
   ]
  },
  {
   "cell_type": "markdown",
   "metadata": {},
   "source": [
    "<img src=\"https://t1.daumcdn.net/cfile/tistory/99EF1E395C7EB4B601\" />"
   ]
  },
  {
   "cell_type": "markdown",
   "metadata": {},
   "source": [
    "## 1. 정의"
   ]
  },
  {
   "cell_type": "markdown",
   "metadata": {},
   "source": [
    " 알고리즘의 시간 복잡도(알고리즘 실행 속도)를 표기할때 쓰이며 알고리즘의 최악의 실행 시간을 표기한다. 즉 알고리즘 효율성을 **상한선 기준**으로 표기하기 때문에 가장 일반적으로 사용된다.<br>"
   ]
  },
  {
   "cell_type": "markdown",
   "metadata": {},
   "source": [
    "## 2. 특징"
   ]
  },
  {
   "cell_type": "markdown",
   "metadata": {},
   "source": [
    "Big O 표기법은 알고리즘에서 영향력 있는 항 이외에는 무시하고 **가장 영향력이 있는 항**을 표기한다. 예를 들어 O(8$n^2$ + 5n + 4)라고 하면 O($n^2$)으로 표기한다.<br>\n",
    "그 외에도 **O(1), O($log n$), O(n), O(n$log n$), O($n^2$), O($2^n$), O(n!)등**으로 표기함"
   ]
  },
  {
   "cell_type": "markdown",
   "metadata": {},
   "source": [
    "## 3. 성능비교 및 사용예시"
   ]
  },
  {
   "cell_type": "markdown",
   "metadata": {},
   "source": [
    "<img src=\"https://t1.daumcdn.net/cfile/tistory/99929C465B55DE3A34\" />"
   ]
  },
  {
   "cell_type": "markdown",
   "metadata": {},
   "source": [
    "일반적으로 그림과 같이 **O(1) < O($log n$) < O(n) < O(n$log n$) < O($n^2$) < O($n^3$) < O($2^n$)** 순으로 시간이 오래 걸린다. 즉, O(1)이 가장 성능이 좋다."
   ]
  },
  {
   "cell_type": "markdown",
   "metadata": {},
   "source": [
    "### 사용예시"
   ]
  },
  {
   "cell_type": "markdown",
   "metadata": {},
   "source": [
    "두 알고리즘의 성능을 비교할때 O($log n$)과 O($n^2$)가 있다면 Big O 표기법에 의해 O($log n$)의 성능이 더 좋다고 볼 수 있다"
   ]
  }
 ],
 "metadata": {
  "kernelspec": {
   "display_name": "Python 3",
   "language": "python",
   "name": "python3"
  },
  "language_info": {
   "codemirror_mode": {
    "name": "ipython",
    "version": 3
   },
   "file_extension": ".py",
   "mimetype": "text/x-python",
   "name": "python",
   "nbconvert_exporter": "python",
   "pygments_lexer": "ipython3",
   "version": "3.7.3"
  }
 },
 "nbformat": 4,
 "nbformat_minor": 2
}
