{
 "cells": [
  {
   "cell_type": "markdown",
   "metadata": {},
   "source": [
    "# [자료구조] 01. 큐 (Queue) - python"
   ]
  },
  {
   "cell_type": "markdown",
   "metadata": {},
   "source": [
    "## 1. 정의"
   ]
  },
  {
   "cell_type": "markdown",
   "metadata": {},
   "source": [
    "줄을 서는 거와 같이 가장 먼저 넣은 데이터를 가장 먼저 꺼낼 수 있는 구조이다.<br>\n",
    "즉 **FIFO(First in First out), LILO(Last in Last out)**구조를 가지고있다.<br>\n",
    "* Enqueue : 큐에 데이터를 넣는 기능 후단(rear)에서 이루어짐<br>\n",
    "* Dequeue : 큐에서 데이터를 꺼내는 기능 전단(front)에서 이루어짐"
   ]
  },
  {
   "cell_type": "markdown",
   "metadata": {},
   "source": [
    "## 2. 특징"
   ]
  },
  {
   "cell_type": "markdown",
   "metadata": {},
   "source": [
    "* 멀티 태스킹을 위한 프로세스 스케쥴링 방식을 구현하기 위해 많이 사용됨<br>\n",
    "* 데이터가 입력된 시간 순서대로 처리할때 유리하다"
   ]
  },
  {
   "cell_type": "markdown",
   "metadata": {},
   "source": [
    "## 3. 종류"
   ]
  },
  {
   "cell_type": "markdown",
   "metadata": {},
   "source": [
    "1.Queue(FIFO)<br>\n",
    "* FIFO(First in First out), LILO(Last in Last out)구조의 일반적인 큐<br>\n",
    "\n",
    "2.Priority Queue<br>\n",
    "* index값을 데이터마다 지정하여 순서를 정하는 형태<br>\n",
    "\n",
    "3.Circular Queue<br>\n",
    "* 직선 큐에서 데이터를 제거 할때 추가적인 연산이 생기는 단점을 극복하기 위한 원 형태의 큐<br>\n",
    "\n",
    "4.Linked Queue<br>\n",
    "* 링크드 리스트와 비슷 한 형태로 노드에 후단(rear)방향의 주소값이 있고 전단(front)에서 Dequeue, 후단(rear)에서 Enqueue가 일어난다.<br>"
   ]
  },
  {
   "cell_type": "markdown",
   "metadata": {},
   "source": [
    "## 4. 코드 구현"
   ]
  },
  {
   "cell_type": "markdown",
   "metadata": {},
   "source": [
    "### 간단하게 라이브러리로 구현하기"
   ]
  },
  {
   "cell_type": "markdown",
   "metadata": {},
   "source": [
    "* Queue"
   ]
  },
  {
   "cell_type": "code",
   "execution_count": 3,
   "metadata": {},
   "outputs": [
    {
     "data": {
      "text/plain": [
       "5"
      ]
     },
     "execution_count": 3,
     "metadata": {},
     "output_type": "execute_result"
    }
   ],
   "source": [
    "import queue\n",
    "\n",
    "queue_code = queue.Queue()\n",
    "# Enqueue\n",
    "queue_code.put(\"data_1\")\n",
    "queue_code.put(\"data_2\")\n",
    "queue_code.put(\"data_3\")\n",
    "queue_code.put(\"data_4\")\n",
    "queue_code.put(\"data_5\")\n",
    "queue_code.qsize()"
   ]
  },
  {
   "cell_type": "code",
   "execution_count": 4,
   "metadata": {},
   "outputs": [
    {
     "name": "stdout",
     "output_type": "stream",
     "text": [
      "data_1\n",
      "data_2\n",
      "data_3\n",
      "data_4\n",
      "data_5\n"
     ]
    }
   ],
   "source": [
    "# Dequeue\n",
    "for _ in range(queue_code.qsize()):\n",
    "    print(queue_code.get())"
   ]
  },
  {
   "cell_type": "markdown",
   "metadata": {},
   "source": [
    "* PriorityQueue"
   ]
  },
  {
   "cell_type": "code",
   "execution_count": 6,
   "metadata": {},
   "outputs": [
    {
     "data": {
      "text/plain": [
       "5"
      ]
     },
     "execution_count": 6,
     "metadata": {},
     "output_type": "execute_result"
    }
   ],
   "source": [
    "# PriorityQueue\n",
    "priority_queue = queue.PriorityQueue()\n",
    "# Enqueue\n",
    "priority_queue.put((5, \"data_1\"))\n",
    "priority_queue.put((3, \"data_2\"))\n",
    "priority_queue.put((11, \"data_3\"))\n",
    "priority_queue.put((8, \"data_4\"))\n",
    "priority_queue.put((1, \"data_5\"))\n",
    "priority_queue.qsize()"
   ]
  },
  {
   "cell_type": "code",
   "execution_count": 7,
   "metadata": {},
   "outputs": [
    {
     "name": "stdout",
     "output_type": "stream",
     "text": [
      "(1, 'data_5')\n",
      "(3, 'data_2')\n",
      "(5, 'data_1')\n",
      "(8, 'data_4')\n",
      "(11, 'data_3')\n"
     ]
    }
   ],
   "source": [
    "# Dequeue\n",
    "for _ in range(priority_queue.qsize()):\n",
    "    print(priority_queue.get())"
   ]
  },
  {
   "cell_type": "markdown",
   "metadata": {},
   "source": [
    "### 라이브러리 안쓰고 구현하기(list 사용하여)"
   ]
  },
  {
   "cell_type": "markdown",
   "metadata": {},
   "source": [
    "* queue_htm class 구현"
   ]
  },
  {
   "cell_type": "code",
   "execution_count": 58,
   "metadata": {},
   "outputs": [],
   "source": [
    "class queue_htm:\n",
    "    def __init__(self):\n",
    "        self.queue = list()\n",
    "    \n",
    "    def Enqueue(self, data):\n",
    "        self.queue.append(data)\n",
    "        return self.queue\n",
    "    \n",
    "    def Dequeue(self):\n",
    "        try:\n",
    "            temp = self.queue[0]\n",
    "            del self.queue[0]\n",
    "            return temp\n",
    "        except:\n",
    "            return self.queue\n",
    "    \n",
    "    def qsize(self):\n",
    "        return len(self.queue)"
   ]
  },
  {
   "cell_type": "markdown",
   "metadata": {},
   "source": [
    "* test"
   ]
  },
  {
   "cell_type": "code",
   "execution_count": 68,
   "metadata": {},
   "outputs": [
    {
     "data": {
      "text/plain": [
       "[1, 2, 3, 4, 5]"
      ]
     },
     "execution_count": 68,
     "metadata": {},
     "output_type": "execute_result"
    }
   ],
   "source": [
    "HTM = queue_htm()\n",
    "# Enqueue\n",
    "HTM.Enqueue(1)\n",
    "HTM.Enqueue(2)\n",
    "HTM.Enqueue(3)\n",
    "HTM.Enqueue(4)\n",
    "HTM.Enqueue(5)"
   ]
  },
  {
   "cell_type": "code",
   "execution_count": 69,
   "metadata": {},
   "outputs": [
    {
     "name": "stdout",
     "output_type": "stream",
     "text": [
      "==>> qsize :  5\n",
      "==>> Dequeue :  1\n",
      "==>> qsize :  4\n",
      "==>> Dequeue :  2\n",
      "==>> qsize :  3\n",
      "==>> Dequeue :  3\n",
      "==>> qsize :  2\n",
      "==>> Dequeue :  4\n",
      "==>> qsize :  1\n",
      "==>> Dequeue :  5\n",
      "==>> qsize :  0\n"
     ]
    }
   ],
   "source": [
    "# qsize\n",
    "print('==>> qsize : ',HTM.qsize())\n",
    "# Dequeue\n",
    "for _ in range(HTM.qsize()):\n",
    "    print('==>> Dequeue : ',HTM.Dequeue())\n",
    "    print('==>> qsize : ',HTM.qsize())"
   ]
  }
 ],
 "metadata": {
  "kernelspec": {
   "display_name": "Python 3",
   "language": "python",
   "name": "python3"
  },
  "language_info": {
   "codemirror_mode": {
    "name": "ipython",
    "version": 3
   },
   "file_extension": ".py",
   "mimetype": "text/x-python",
   "name": "python",
   "nbconvert_exporter": "python",
   "pygments_lexer": "ipython3",
   "version": "3.7.3"
  }
 },
 "nbformat": 4,
 "nbformat_minor": 2
}
